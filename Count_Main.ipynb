{
 "cells": [
  {
   "cell_type": "markdown",
   "id": "4f6dca98-334e-41a7-8e8a-1de083b6f0be",
   "metadata": {},
   "source": [
    "## Code to determine and Correct the Class-Imbalnce problem through Bootstrapping"
   ]
  },
  {
   "cell_type": "code",
   "execution_count": 1,
   "id": "44cbdcbf-18ee-496f-bc91-0c7ec5bc2e29",
   "metadata": {
    "tags": []
   },
   "outputs": [
    {
     "name": "stdout",
     "output_type": "stream",
     "text": [
      "Number of unique classes: 6\n",
      "4\n",
      "1\n",
      "2\n",
      "3\n",
      "6\n",
      "5\n"
     ]
    }
   ],
   "source": [
    "import csv\n",
    "\n",
    "# Path to the CSV file\n",
    "file_path = 'tab_data.csv'\n",
    "\n",
    "# Initialize an empty set to store unique classes\n",
    "unique_classes = set()\n",
    "\n",
    "# Open the CSV file and read it\n",
    "with open(file_path, mode='r') as file:\n",
    "    csv_reader = csv.DictReader(file)\n",
    "    \n",
    "    # Iterate through each row in the CSV\n",
    "    for row in csv_reader:\n",
    "        # Extract the value from the \"clusterid - Prediction/OutPut\" column\n",
    "        class_value = row['clusterid - Prediction/OutPut']\n",
    "        # Add the class value to the set of unique classes\n",
    "        unique_classes.add(class_value)\n",
    "\n",
    "# Print the number of unique classes\n",
    "print(f'Number of unique classes: {len(unique_classes)}')\n",
    "\n",
    "# Print the unique classes and their counts\n",
    "for unique_class in unique_classes:\n",
    "    print(unique_class)"
   ]
  },
  {
   "cell_type": "code",
   "execution_count": 2,
   "id": "dd5d63e3-f559-42e2-99ce-fa76376593d0",
   "metadata": {
    "tags": []
   },
   "outputs": [
    {
     "name": "stdout",
     "output_type": "stream",
     "text": [
      "Class 5: 96\n",
      "Class 3: 1133\n",
      "Class 6: 1036\n",
      "Class 4: 130\n",
      "Class 1: 32\n",
      "Class 2: 49\n"
     ]
    }
   ],
   "source": [
    "import csv\n",
    "from collections import Counter\n",
    "\n",
    "# Path to the CSV file\n",
    "file_path = 'tab_data.csv'\n",
    "\n",
    "# Initialize a Counter to store unique classes and their counts\n",
    "class_counts = Counter()\n",
    "\n",
    "# Open the CSV file and read it\n",
    "with open(file_path, mode='r') as file:\n",
    "    csv_reader = csv.reader(file)\n",
    "    \n",
    "    # Skip the header row if there is one\n",
    "    next(csv_reader, None)\n",
    "    \n",
    "    # Iterate through each row in the CSV\n",
    "    for row in csv_reader:\n",
    "        # Assuming the \"clusterid - Prediction/OutPut\" column is the first column\n",
    "        cluster_id = row[0]\n",
    "        # Update the Counter with the cluster_id\n",
    "        class_counts[cluster_id] += 1\n",
    "\n",
    "# Print the unique classes and their counts\n",
    "for class_id, count in class_counts.items():\n",
    "    print(f'Class {class_id}: {count}')"
   ]
  },
  {
   "cell_type": "code",
   "execution_count": 3,
   "id": "af1259c7-28d2-4d07-ab0d-a1ad22bffadf",
   "metadata": {
    "tags": []
   },
   "outputs": [
    {
     "name": "stdout",
     "output_type": "stream",
     "text": [
      "New file \"Modified_tab_data.csv\" created with each class occurring 1200 times.\n"
     ]
    }
   ],
   "source": [
    "import csv\n",
    "import random\n",
    "from collections import defaultdict\n",
    "\n",
    "# Path to the original and new CSV files\n",
    "original_file_path = 'tab_data.csv'\n",
    "new_file_path = 'Modified_tab_data.csv'\n",
    "\n",
    "# Read the original CSV file\n",
    "with open(original_file_path, mode='r') as file:\n",
    "    csv_reader = csv.reader(file)\n",
    "    header = next(csv_reader)  # Capture the header\n",
    "    data = list(csv_reader)\n",
    "\n",
    "# Separate data by class\n",
    "data_by_class = defaultdict(list)\n",
    "for row in data:\n",
    "    class_label = row[0]  # Assuming class labels are in the first column\n",
    "    data_by_class[class_label].append(row)\n",
    "\n",
    "# Perform bootstrapping to ensure each class occurs 1200 times\n",
    "bootstrapped_data = []\n",
    "target_count = 1200\n",
    "for class_label, rows in data_by_class.items():\n",
    "    if len(rows) >= target_count:\n",
    "        bootstrapped_data.extend(random.sample(rows, target_count))\n",
    "    else:\n",
    "        bootstrapped_data.extend(rows)\n",
    "        additional_rows_needed = target_count - len(rows)\n",
    "        bootstrapped_data.extend(random.choices(rows, k=additional_rows_needed))\n",
    "\n",
    "# Shuffle the bootstrapped data to mix the classes well\n",
    "random.shuffle(bootstrapped_data)\n",
    "\n",
    "# Write the bootstrapped data to a new CSV file\n",
    "with open(new_file_path, mode='w', newline='') as file:\n",
    "    csv_writer = csv.writer(file)\n",
    "    csv_writer.writerow(header)  # Write the header first\n",
    "    csv_writer.writerows(bootstrapped_data)\n",
    "\n",
    "print(f'New file \"{new_file_path}\" created with each class occurring 1200 times.')"
   ]
  },
  {
   "cell_type": "code",
   "execution_count": 4,
   "id": "db63e5d1-aec8-4af3-9ac5-550ea22a0321",
   "metadata": {
    "tags": []
   },
   "outputs": [
    {
     "name": "stdout",
     "output_type": "stream",
     "text": [
      "Class 1: 1200\n",
      "Class 6: 1200\n",
      "Class 5: 1200\n",
      "Class 2: 1200\n",
      "Class 4: 1200\n",
      "Class 3: 1200\n"
     ]
    }
   ],
   "source": [
    "import csv\n",
    "from collections import Counter\n",
    "\n",
    "# Path to the CSV file\n",
    "file_path = 'Modified_tab_data.csv'\n",
    "\n",
    "# Initialize a Counter to store unique classes and their counts\n",
    "class_counts = Counter()\n",
    "\n",
    "# Open the CSV file and read it\n",
    "with open(file_path, mode='r') as file:\n",
    "    csv_reader = csv.reader(file)\n",
    "    \n",
    "    # Skip the header row if there is one\n",
    "    next(csv_reader, None)\n",
    "    \n",
    "    # Iterate through each row in the CSV\n",
    "    for row in csv_reader:\n",
    "        # Assuming the \"clusterid - Prediction/OutPut\" column is the first column\n",
    "        cluster_id = row[0]\n",
    "        # Update the Counter with the cluster_id\n",
    "        class_counts[cluster_id] += 1\n",
    "\n",
    "# Print the unique classes and their counts\n",
    "for class_id, count in class_counts.items():\n",
    "    print(f'Class {class_id}: {count}')"
   ]
  },
  {
   "cell_type": "code",
   "execution_count": null,
   "id": "a152caf9-d62a-4e1a-bf08-7322490795aa",
   "metadata": {},
   "outputs": [],
   "source": []
  }
 ],
 "metadata": {
  "kernelspec": {
   "display_name": "conda_python3",
   "language": "python",
   "name": "conda_python3"
  },
  "language_info": {
   "codemirror_mode": {
    "name": "ipython",
    "version": 3
   },
   "file_extension": ".py",
   "mimetype": "text/x-python",
   "name": "python",
   "nbconvert_exporter": "python",
   "pygments_lexer": "ipython3",
   "version": "3.10.14"
  }
 },
 "nbformat": 4,
 "nbformat_minor": 5
}
