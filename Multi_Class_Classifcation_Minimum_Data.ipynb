{
 "cells": [
  {
   "cell_type": "markdown",
   "id": "631e934f-b6e5-4d61-bb91-3ddd4ba51574",
   "metadata": {},
   "source": [
    "## Code to create data set with 32 samples per class"
   ]
  },
  {
   "cell_type": "code",
   "execution_count": 1,
   "id": "9aba1d6d-e7f5-4254-9556-5f34d83d9566",
   "metadata": {
    "tags": []
   },
   "outputs": [
    {
     "name": "stdout",
     "output_type": "stream",
     "text": [
      "New file \"Modified_minimal.csv\" created with each class occurring 32 times.\n"
     ]
    }
   ],
   "source": [
    "import pandas as pd\n",
    "\n",
    "# Load the data\n",
    "df = pd.read_csv('tab_data.csv')\n",
    "\n",
    "# Initialize an empty DataFrame to store the balanced data\n",
    "balanced_df = pd.DataFrame()\n",
    "\n",
    "# Number of samples per class\n",
    "samples_per_class = 32\n",
    "\n",
    "# Loop through each unique class in the target variable\n",
    "for label in df['clusterid - Prediction/OutPut'].unique():\n",
    "    # Filter the data for the current class and randomly select the required number of samples\n",
    "    class_subset = df[df['clusterid - Prediction/OutPut'] == label].sample(n=samples_per_class, random_state=42)\n",
    "    # Append the selected samples to the balanced DataFrame\n",
    "    balanced_df = pd.concat([balanced_df, class_subset], axis=0)\n",
    "\n",
    "# Shuffle the dataset to mix the classes well\n",
    "balanced_df = balanced_df.sample(frac=1, random_state=42).reset_index(drop=True)\n",
    "\n",
    "# Save the balanced dataset to a new CSV file\n",
    "balanced_df.to_csv('Modified_minimal.csv', index=False)\n",
    "\n",
    "print('New file \"Modified_minimal.csv\" created with each class occurring 32 times.')"
   ]
  },
  {
   "cell_type": "markdown",
   "id": "1ce65494-7238-4a19-b2a3-83323734b28b",
   "metadata": {},
   "source": [
    "## Code to create data set with 32 samples per class"
   ]
  },
  {
   "cell_type": "code",
   "execution_count": 2,
   "id": "d93a1940-31c6-4b54-81ba-6d12a5e3b2ed",
   "metadata": {
    "tags": []
   },
   "outputs": [
    {
     "name": "stdout",
     "output_type": "stream",
     "text": [
      "New file \"Modified_Cleaned_minimal.csv\" created with each class occurring 9 times.\n"
     ]
    }
   ],
   "source": [
    "import pandas as pd\n",
    "\n",
    "# Load the data\n",
    "df = pd.read_csv('Cleaned_1.csv')\n",
    "\n",
    "# Initialize an empty DataFrame to store the balanced data\n",
    "balanced_df = pd.DataFrame()\n",
    "\n",
    "# Number of samples per class\n",
    "samples_per_class = 9\n",
    "\n",
    "# Loop through each unique class in the target variable\n",
    "for label in df['clusterid - Prediction/OutPut'].unique():\n",
    "    # Filter the data for the current class and randomly select the required number of samples\n",
    "    class_subset = df[df['clusterid - Prediction/OutPut'] == label].sample(n=samples_per_class, random_state=42)\n",
    "    # Append the selected samples to the balanced DataFrame\n",
    "    balanced_df = pd.concat([balanced_df, class_subset], axis=0)\n",
    "\n",
    "# Shuffle the dataset to mix the classes well\n",
    "balanced_df = balanced_df.sample(frac=1, random_state=42).reset_index(drop=True)\n",
    "\n",
    "# Save the balanced dataset to a new CSV file\n",
    "balanced_df.to_csv('Modified_Cleaned_minimal.csv', index=False)\n",
    "\n",
    "print('New file \"Modified_Cleaned_minimal.csv\" created with each class occurring 9 times.')"
   ]
  },
  {
   "cell_type": "code",
   "execution_count": null,
   "id": "8583bbaf-95b9-4aec-85a0-3f403f660b92",
   "metadata": {},
   "outputs": [],
   "source": []
  }
 ],
 "metadata": {
  "kernelspec": {
   "display_name": "conda_python3",
   "language": "python",
   "name": "conda_python3"
  },
  "language_info": {
   "codemirror_mode": {
    "name": "ipython",
    "version": 3
   },
   "file_extension": ".py",
   "mimetype": "text/x-python",
   "name": "python",
   "nbconvert_exporter": "python",
   "pygments_lexer": "ipython3",
   "version": "3.10.14"
  }
 },
 "nbformat": 4,
 "nbformat_minor": 5
}
